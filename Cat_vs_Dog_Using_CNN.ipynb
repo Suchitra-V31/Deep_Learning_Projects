{
  "nbformat": 4,
  "nbformat_minor": 0,
  "metadata": {
    "accelerator": "GPU",
    "colab": {
      "name": "Cat vs Dog Using CNN.ipynb",
      "provenance": [],
      "collapsed_sections": [],
      "mount_file_id": "1u26bPnA2CJldFXphRfoocdsbOgq2EVav",
      "authorship_tag": "ABX9TyNCEo4IzCXzEgr7NRgmd9r3",
      "include_colab_link": true
    },
    "kernelspec": {
      "display_name": "Python 3",
      "name": "python3"
    },
    "language_info": {
      "name": "python"
    }
  },
  "cells": [
    {
      "cell_type": "markdown",
      "metadata": {
        "id": "view-in-github",
        "colab_type": "text"
      },
      "source": [
        "<a href=\"https://colab.research.google.com/github/Suchitra-V31/Deep_Learning_Projects/blob/main/Cat_vs_Dog_Using_CNN.ipynb\" target=\"_parent\"><img src=\"https://colab.research.google.com/assets/colab-badge.svg\" alt=\"Open In Colab\"/></a>"
      ]
    },
    {
      "cell_type": "markdown",
      "metadata": {
        "id": "Y8bNdvC1xP5U"
      },
      "source": [
        "In this dataset we are going to train the model with cats and dogs images and make the model to predict whether it is a cat or dog."
      ]
    },
    {
      "cell_type": "code",
      "metadata": {
        "id": "hAh6M4qeas4F"
      },
      "source": [
        "#import the necessary libraries\n",
        "import numpy as np\n",
        "import pandas as pd\n",
        "import matplotlib.pyplot as plt\n",
        "import os\n",
        "import random\n",
        "import tensorflow"
      ],
      "execution_count": null,
      "outputs": []
    },
    {
      "cell_type": "code",
      "metadata": {
        "id": "yQVZm7jOas_m"
      },
      "source": [
        "#training and image processing\n",
        "from keras.preprocessing.image import ImageDataGenerator\n",
        "from tensorflow.keras.utils import to_categorical\n",
        "from sklearn.model_selection import train_test_split"
      ],
      "execution_count": null,
      "outputs": []
    },
    {
      "cell_type": "code",
      "metadata": {
        "id": "DdlFCLAlatC6"
      },
      "source": [
        "#cnn model\n",
        "from tensorflow.keras.models import Sequential\n",
        "from tensorflow.keras.layers import Dense,Dropout,Flatten\n",
        "from tensorflow.keras.layers import Conv2D,MaxPooling2D,BatchNormalization\n",
        "from tensorflow.keras.optimizers import RMSprop\n"
      ],
      "execution_count": null,
      "outputs": []
    },
    {
      "cell_type": "code",
      "metadata": {
        "id": "IIsltKryVhhU"
      },
      "source": [
        "import cv2"
      ],
      "execution_count": null,
      "outputs": []
    },
    {
      "cell_type": "code",
      "metadata": {
        "id": "XIqVOTx3atGk"
      },
      "source": [
        "Image_height=128\n",
        "Image_width=128\n",
        "Image_size=(Image_width,Image_height)\n",
        "Image_channels=3"
      ],
      "execution_count": null,
      "outputs": []
    },
    {
      "cell_type": "code",
      "metadata": {
        "id": "MwruhrdjatJ-"
      },
      "source": [
        "\n",
        "filenames=os.listdir('/content/drive/MyDrive/Datasets/Cat vs Dog/train') # train data"
      ],
      "execution_count": null,
      "outputs": []
    },
    {
      "cell_type": "code",
      "metadata": {
        "id": "yHwVK4S9dZRV"
      },
      "source": [
        "categories=[]\n",
        "data=[]\n",
        "for f_name in filenames:\n",
        "  category=f_name.split('.')[0]\n",
        "  if category=='dog':\n",
        "    categories.append(1)\n",
        "  else:\n",
        "    categories.append(0)\n",
        "    "
      ],
      "execution_count": null,
      "outputs": []
    },
    {
      "cell_type": "code",
      "metadata": {
        "id": "rNG_hiq7d1Zt"
      },
      "source": [
        "df=pd.DataFrame({'filenames':filenames,'categories':categories})"
      ],
      "execution_count": null,
      "outputs": []
    },
    {
      "cell_type": "code",
      "metadata": {
        "colab": {
          "base_uri": "https://localhost:8080/",
          "height": 204
        },
        "id": "X7zr2bDDeOSw",
        "outputId": "f13e6df4-db1e-46de-9d0a-9364bf680a3f"
      },
      "source": [
        "df.head()"
      ],
      "execution_count": null,
      "outputs": [
        {
          "output_type": "execute_result",
          "data": {
            "text/html": [
              "<div>\n",
              "<style scoped>\n",
              "    .dataframe tbody tr th:only-of-type {\n",
              "        vertical-align: middle;\n",
              "    }\n",
              "\n",
              "    .dataframe tbody tr th {\n",
              "        vertical-align: top;\n",
              "    }\n",
              "\n",
              "    .dataframe thead th {\n",
              "        text-align: right;\n",
              "    }\n",
              "</style>\n",
              "<table border=\"1\" class=\"dataframe\">\n",
              "  <thead>\n",
              "    <tr style=\"text-align: right;\">\n",
              "      <th></th>\n",
              "      <th>filenames</th>\n",
              "      <th>categories</th>\n",
              "    </tr>\n",
              "  </thead>\n",
              "  <tbody>\n",
              "    <tr>\n",
              "      <th>0</th>\n",
              "      <td>cat.9113.jpg</td>\n",
              "      <td>0</td>\n",
              "    </tr>\n",
              "    <tr>\n",
              "      <th>1</th>\n",
              "      <td>cat.909.jpg</td>\n",
              "      <td>0</td>\n",
              "    </tr>\n",
              "    <tr>\n",
              "      <th>2</th>\n",
              "      <td>cat.9093.jpg</td>\n",
              "      <td>0</td>\n",
              "    </tr>\n",
              "    <tr>\n",
              "      <th>3</th>\n",
              "      <td>cat.9075.jpg</td>\n",
              "      <td>0</td>\n",
              "    </tr>\n",
              "    <tr>\n",
              "      <th>4</th>\n",
              "      <td>cat.9078.jpg</td>\n",
              "      <td>0</td>\n",
              "    </tr>\n",
              "  </tbody>\n",
              "</table>\n",
              "</div>"
            ],
            "text/plain": [
              "      filenames  categories\n",
              "0  cat.9113.jpg           0\n",
              "1   cat.909.jpg           0\n",
              "2  cat.9093.jpg           0\n",
              "3  cat.9075.jpg           0\n",
              "4  cat.9078.jpg           0"
            ]
          },
          "metadata": {},
          "execution_count": 11
        }
      ]
    },
    {
      "cell_type": "code",
      "metadata": {
        "colab": {
          "base_uri": "https://localhost:8080/",
          "height": 204
        },
        "id": "LErjgRdieROf",
        "outputId": "117c19da-cc0c-4532-d257-1c9303358fdb"
      },
      "source": [
        "df.tail()"
      ],
      "execution_count": null,
      "outputs": [
        {
          "output_type": "execute_result",
          "data": {
            "text/html": [
              "<div>\n",
              "<style scoped>\n",
              "    .dataframe tbody tr th:only-of-type {\n",
              "        vertical-align: middle;\n",
              "    }\n",
              "\n",
              "    .dataframe tbody tr th {\n",
              "        vertical-align: top;\n",
              "    }\n",
              "\n",
              "    .dataframe thead th {\n",
              "        text-align: right;\n",
              "    }\n",
              "</style>\n",
              "<table border=\"1\" class=\"dataframe\">\n",
              "  <thead>\n",
              "    <tr style=\"text-align: right;\">\n",
              "      <th></th>\n",
              "      <th>filenames</th>\n",
              "      <th>categories</th>\n",
              "    </tr>\n",
              "  </thead>\n",
              "  <tbody>\n",
              "    <tr>\n",
              "      <th>24365</th>\n",
              "      <td>dog.1033.jpg</td>\n",
              "      <td>1</td>\n",
              "    </tr>\n",
              "    <tr>\n",
              "      <th>24366</th>\n",
              "      <td>dog.10333.jpg</td>\n",
              "      <td>1</td>\n",
              "    </tr>\n",
              "    <tr>\n",
              "      <th>24367</th>\n",
              "      <td>dog.10338.jpg</td>\n",
              "      <td>1</td>\n",
              "    </tr>\n",
              "    <tr>\n",
              "      <th>24368</th>\n",
              "      <td>dog.10331.jpg</td>\n",
              "      <td>1</td>\n",
              "    </tr>\n",
              "    <tr>\n",
              "      <th>24369</th>\n",
              "      <td>dog.10332.jpg</td>\n",
              "      <td>1</td>\n",
              "    </tr>\n",
              "  </tbody>\n",
              "</table>\n",
              "</div>"
            ],
            "text/plain": [
              "           filenames  categories\n",
              "24365   dog.1033.jpg           1\n",
              "24366  dog.10333.jpg           1\n",
              "24367  dog.10338.jpg           1\n",
              "24368  dog.10331.jpg           1\n",
              "24369  dog.10332.jpg           1"
            ]
          },
          "metadata": {},
          "execution_count": 12
        }
      ]
    },
    {
      "cell_type": "markdown",
      "metadata": {
        "id": "8yvvYpyO88q4"
      },
      "source": [
        "**Design Neural Network Architecture**"
      ]
    },
    {
      "cell_type": "code",
      "metadata": {
        "id": "gXDSnybfedON"
      },
      "source": [
        "model=Sequential()\n",
        "model.add(Conv2D(64,(3,3),activation='relu',padding='Same',input_shape=(Image_width,Image_height,Image_channels)))\n",
        "model.add(BatchNormalization())\n",
        "\n",
        "model.add(Conv2D(128,(3,3),activation='relu',padding='Same',input_shape=(Image_width,Image_height,Image_channels)))\n",
        "model.add(Conv2D(128,(3,3),activation='relu',padding='Same',input_shape=(Image_width,Image_height,Image_channels)))\n",
        "model.add(Conv2D(128,(3,3),activation='relu',padding='Same',input_shape=(Image_width,Image_height,Image_channels)))\n",
        "model.add(MaxPooling2D(pool_size=(2,2)))\n",
        "\n",
        "\n",
        "model.add(Flatten())\n",
        "model.add(Dense(128,activation='relu'))\n",
        "model.add(Dense(64,activation='relu'))\n",
        "model.add(BatchNormalization())\n",
        "model.add(Dropout(0.3))\n",
        "\n",
        "model.add(Dense(2,activation='sigmoid'))"
      ],
      "execution_count": null,
      "outputs": []
    },
    {
      "cell_type": "markdown",
      "metadata": {
        "id": "Iucg3zZd9Fu-"
      },
      "source": [
        "**Compile Model**"
      ]
    },
    {
      "cell_type": "code",
      "metadata": {
        "id": "Ab0CBwsegXrU"
      },
      "source": [
        "model.compile(optimizer=RMSprop(learning_rate=0.001),loss='categorical_crossentropy',metrics=['accuracy'])"
      ],
      "execution_count": null,
      "outputs": []
    },
    {
      "cell_type": "code",
      "metadata": {
        "colab": {
          "base_uri": "https://localhost:8080/"
        },
        "id": "db_4HIFzgr4Q",
        "outputId": "f1f8d243-0273-48dd-9843-e805f0c16add"
      },
      "source": [
        "model.summary()"
      ],
      "execution_count": null,
      "outputs": [
        {
          "output_type": "stream",
          "name": "stdout",
          "text": [
            "Model: \"sequential\"\n",
            "_________________________________________________________________\n",
            "Layer (type)                 Output Shape              Param #   \n",
            "=================================================================\n",
            "conv2d (Conv2D)              (None, 128, 128, 64)      1792      \n",
            "_________________________________________________________________\n",
            "batch_normalization (BatchNo (None, 128, 128, 64)      256       \n",
            "_________________________________________________________________\n",
            "conv2d_1 (Conv2D)            (None, 128, 128, 128)     73856     \n",
            "_________________________________________________________________\n",
            "conv2d_2 (Conv2D)            (None, 128, 128, 128)     147584    \n",
            "_________________________________________________________________\n",
            "conv2d_3 (Conv2D)            (None, 128, 128, 128)     147584    \n",
            "_________________________________________________________________\n",
            "max_pooling2d (MaxPooling2D) (None, 64, 64, 128)       0         \n",
            "_________________________________________________________________\n",
            "flatten (Flatten)            (None, 524288)            0         \n",
            "_________________________________________________________________\n",
            "dense (Dense)                (None, 128)               67108992  \n",
            "_________________________________________________________________\n",
            "dense_1 (Dense)              (None, 64)                8256      \n",
            "_________________________________________________________________\n",
            "batch_normalization_1 (Batch (None, 64)                256       \n",
            "_________________________________________________________________\n",
            "dropout (Dropout)            (None, 64)                0         \n",
            "_________________________________________________________________\n",
            "dense_2 (Dense)              (None, 2)                 130       \n",
            "=================================================================\n",
            "Total params: 67,488,706\n",
            "Trainable params: 67,488,450\n",
            "Non-trainable params: 256\n",
            "_________________________________________________________________\n"
          ]
        }
      ]
    },
    {
      "cell_type": "code",
      "metadata": {
        "id": "VPIBYWWyg2SY"
      },
      "source": [
        "df['categories']=df['categories'].replace({0:'cat',1:'dog'})"
      ],
      "execution_count": null,
      "outputs": []
    },
    {
      "cell_type": "code",
      "metadata": {
        "id": "bgShz75QhN-6"
      },
      "source": [
        "train_df,valid_df=train_test_split(df,test_size=0.33,random_state=0) #split the train data into train/valid"
      ],
      "execution_count": null,
      "outputs": []
    },
    {
      "cell_type": "code",
      "metadata": {
        "id": "p_6dOcuvhXd2"
      },
      "source": [
        "train_df=train_df.reset_index(drop=True)\n",
        "valid_df=valid_df.reset_index(drop=True)"
      ],
      "execution_count": null,
      "outputs": []
    },
    {
      "cell_type": "code",
      "metadata": {
        "colab": {
          "base_uri": "https://localhost:8080/"
        },
        "id": "TBx1S-snocON",
        "outputId": "c5a23a29-69bc-4cad-f7c2-20da0497ef97"
      },
      "source": [
        "total_train=train_df.shape[0]\n",
        "total_train"
      ],
      "execution_count": null,
      "outputs": [
        {
          "output_type": "execute_result",
          "data": {
            "text/plain": [
              "16327"
            ]
          },
          "metadata": {},
          "execution_count": 19
        }
      ]
    },
    {
      "cell_type": "code",
      "metadata": {
        "colab": {
          "base_uri": "https://localhost:8080/"
        },
        "id": "pYJmAqJ8oiD0",
        "outputId": "c5d03f87-5251-4fb4-8f06-b709d0f73618"
      },
      "source": [
        "total_valid=valid_df.shape[0]\n",
        "total_valid"
      ],
      "execution_count": null,
      "outputs": [
        {
          "output_type": "execute_result",
          "data": {
            "text/plain": [
              "8043"
            ]
          },
          "metadata": {},
          "execution_count": 20
        }
      ]
    },
    {
      "cell_type": "code",
      "metadata": {
        "colab": {
          "base_uri": "https://localhost:8080/",
          "height": 204
        },
        "id": "9-0E-CotiSQ3",
        "outputId": "4f1141c9-e812-4615-f0e1-50e5c35acd18"
      },
      "source": [
        "train_df.head()"
      ],
      "execution_count": null,
      "outputs": [
        {
          "output_type": "execute_result",
          "data": {
            "text/html": [
              "<div>\n",
              "<style scoped>\n",
              "    .dataframe tbody tr th:only-of-type {\n",
              "        vertical-align: middle;\n",
              "    }\n",
              "\n",
              "    .dataframe tbody tr th {\n",
              "        vertical-align: top;\n",
              "    }\n",
              "\n",
              "    .dataframe thead th {\n",
              "        text-align: right;\n",
              "    }\n",
              "</style>\n",
              "<table border=\"1\" class=\"dataframe\">\n",
              "  <thead>\n",
              "    <tr style=\"text-align: right;\">\n",
              "      <th></th>\n",
              "      <th>filenames</th>\n",
              "      <th>categories</th>\n",
              "    </tr>\n",
              "  </thead>\n",
              "  <tbody>\n",
              "    <tr>\n",
              "      <th>0</th>\n",
              "      <td>cat.2802.jpg</td>\n",
              "      <td>cat</td>\n",
              "    </tr>\n",
              "    <tr>\n",
              "      <th>1</th>\n",
              "      <td>cat.11834.jpg</td>\n",
              "      <td>cat</td>\n",
              "    </tr>\n",
              "    <tr>\n",
              "      <th>2</th>\n",
              "      <td>dog.1120.jpg</td>\n",
              "      <td>dog</td>\n",
              "    </tr>\n",
              "    <tr>\n",
              "      <th>3</th>\n",
              "      <td>dog.3089.jpg</td>\n",
              "      <td>dog</td>\n",
              "    </tr>\n",
              "    <tr>\n",
              "      <th>4</th>\n",
              "      <td>dog.12178.jpg</td>\n",
              "      <td>dog</td>\n",
              "    </tr>\n",
              "  </tbody>\n",
              "</table>\n",
              "</div>"
            ],
            "text/plain": [
              "       filenames categories\n",
              "0   cat.2802.jpg        cat\n",
              "1  cat.11834.jpg        cat\n",
              "2   dog.1120.jpg        dog\n",
              "3   dog.3089.jpg        dog\n",
              "4  dog.12178.jpg        dog"
            ]
          },
          "metadata": {},
          "execution_count": 21
        }
      ]
    },
    {
      "cell_type": "code",
      "metadata": {
        "colab": {
          "base_uri": "https://localhost:8080/",
          "height": 204
        },
        "id": "zfdPQidAiTVn",
        "outputId": "f20f0b61-ef4a-4c9f-9670-23cffe0d08b5"
      },
      "source": [
        "valid_df.head()"
      ],
      "execution_count": null,
      "outputs": [
        {
          "output_type": "execute_result",
          "data": {
            "text/html": [
              "<div>\n",
              "<style scoped>\n",
              "    .dataframe tbody tr th:only-of-type {\n",
              "        vertical-align: middle;\n",
              "    }\n",
              "\n",
              "    .dataframe tbody tr th {\n",
              "        vertical-align: top;\n",
              "    }\n",
              "\n",
              "    .dataframe thead th {\n",
              "        text-align: right;\n",
              "    }\n",
              "</style>\n",
              "<table border=\"1\" class=\"dataframe\">\n",
              "  <thead>\n",
              "    <tr style=\"text-align: right;\">\n",
              "      <th></th>\n",
              "      <th>filenames</th>\n",
              "      <th>categories</th>\n",
              "    </tr>\n",
              "  </thead>\n",
              "  <tbody>\n",
              "    <tr>\n",
              "      <th>0</th>\n",
              "      <td>cat.9926.jpg</td>\n",
              "      <td>cat</td>\n",
              "    </tr>\n",
              "    <tr>\n",
              "      <th>1</th>\n",
              "      <td>dog.12263.jpg</td>\n",
              "      <td>dog</td>\n",
              "    </tr>\n",
              "    <tr>\n",
              "      <th>2</th>\n",
              "      <td>dog.1314.jpg</td>\n",
              "      <td>dog</td>\n",
              "    </tr>\n",
              "    <tr>\n",
              "      <th>3</th>\n",
              "      <td>cat.3589.jpg</td>\n",
              "      <td>cat</td>\n",
              "    </tr>\n",
              "    <tr>\n",
              "      <th>4</th>\n",
              "      <td>dog.12116.jpg</td>\n",
              "      <td>dog</td>\n",
              "    </tr>\n",
              "  </tbody>\n",
              "</table>\n",
              "</div>"
            ],
            "text/plain": [
              "       filenames categories\n",
              "0   cat.9926.jpg        cat\n",
              "1  dog.12263.jpg        dog\n",
              "2   dog.1314.jpg        dog\n",
              "3   cat.3589.jpg        cat\n",
              "4  dog.12116.jpg        dog"
            ]
          },
          "metadata": {},
          "execution_count": 22
        }
      ]
    },
    {
      "cell_type": "markdown",
      "metadata": {
        "id": "lyNeyWMg9NOX"
      },
      "source": [
        "**Use Data Augmentation to get multiple images**"
      ]
    },
    {
      "cell_type": "code",
      "metadata": {
        "id": "YH_9OpF1iiPa"
      },
      "source": [
        "batch_size=32\n",
        "train_datagen = ImageDataGenerator(rotation_range=15,\n",
        "                                rescale=1./255,\n",
        "                                shear_range=0.1,\n",
        "                                zoom_range=0.2,\n",
        "                                horizontal_flip=True,\n",
        "                                width_shift_range=0.1,\n",
        "                                height_shift_range=0.1\n",
        "                                )"
      ],
      "execution_count": null,
      "outputs": []
    },
    {
      "cell_type": "code",
      "metadata": {
        "colab": {
          "base_uri": "https://localhost:8080/"
        },
        "id": "QDdBritNi6fj",
        "outputId": "793c7291-6ca2-41c6-9ebb-f16dd5e9d6ac"
      },
      "source": [
        "train_generator=train_datagen.flow_from_dataframe(train_df,'/content/drive/MyDrive/Datasets/Cat vs Dog/train',\n",
        "                                                  x_col='filenames',\n",
        "                                                  y_col='categories',\n",
        "                                                  batch_size=32,\n",
        "                                                  target_size=Image_size,\n",
        "                                                  class_mode='categorical')"
      ],
      "execution_count": null,
      "outputs": [
        {
          "output_type": "stream",
          "name": "stdout",
          "text": [
            "Found 16327 validated image filenames belonging to 2 classes.\n"
          ]
        }
      ]
    },
    {
      "cell_type": "code",
      "metadata": {
        "colab": {
          "base_uri": "https://localhost:8080/"
        },
        "id": "TzHg__4wnD8x",
        "outputId": "364362f6-056e-4e1e-cca1-eed7c57b6274"
      },
      "source": [
        "valid_generator=train_datagen.flow_from_dataframe(valid_df,'/content/drive/MyDrive/Datasets/Cat vs Dog/train',\n",
        "                                                  x_col='filenames',\n",
        "                                                  y_col='categories',\n",
        "                                                  batch_size=32,\n",
        "                                                  target_size=Image_size,\n",
        "                                                  class_mode='categorical')"
      ],
      "execution_count": null,
      "outputs": [
        {
          "output_type": "stream",
          "name": "stdout",
          "text": [
            "Found 8043 validated image filenames belonging to 2 classes.\n"
          ]
        }
      ]
    },
    {
      "cell_type": "markdown",
      "metadata": {
        "id": "Xo1_2qlx9T_M"
      },
      "source": [
        "**Train!!!!**"
      ]
    },
    {
      "cell_type": "code",
      "metadata": {
        "colab": {
          "base_uri": "https://localhost:8080/"
        },
        "id": "Tf6pzJvVq_3H",
        "outputId": "13d6eead-2681-433e-f4b2-09761cd44453"
      },
      "source": [
        "epochs=5\n",
        "history=model.fit_generator(train_generator,\n",
        "                            steps_per_epoch=total_train//batch_size,\n",
        "                            validation_data=valid_generator,\n",
        "                            validation_steps=total_valid//batch_size,\n",
        "                            epochs=epochs)"
      ],
      "execution_count": null,
      "outputs": [
        {
          "output_type": "stream",
          "name": "stderr",
          "text": [
            "/usr/local/lib/python3.7/dist-packages/keras/engine/training.py:1972: UserWarning: `Model.fit_generator` is deprecated and will be removed in a future version. Please use `Model.fit`, which supports generators.\n",
            "  warnings.warn('`Model.fit_generator` is deprecated and '\n"
          ]
        },
        {
          "output_type": "stream",
          "name": "stdout",
          "text": [
            "Epoch 1/5\n",
            "510/510 [==============================] - 5976s 12s/step - loss: 0.7438 - accuracy: 0.5561 - val_loss: 0.9597 - val_accuracy: 0.5173\n",
            "Epoch 2/5\n",
            "510/510 [==============================] - 314s 614ms/step - loss: 0.6483 - accuracy: 0.6289 - val_loss: 0.6703 - val_accuracy: 0.6155\n",
            "Epoch 3/5\n",
            "510/510 [==============================] - 312s 612ms/step - loss: 0.5939 - accuracy: 0.6795 - val_loss: 0.6636 - val_accuracy: 0.6470\n",
            "Epoch 4/5\n",
            "510/510 [==============================] - 310s 607ms/step - loss: 0.5710 - accuracy: 0.6976 - val_loss: 0.6456 - val_accuracy: 0.6718\n",
            "Epoch 5/5\n",
            "510/510 [==============================] - 313s 614ms/step - loss: 0.5471 - accuracy: 0.7185 - val_loss: 0.6468 - val_accuracy: 0.6754\n"
          ]
        }
      ]
    },
    {
      "cell_type": "markdown",
      "metadata": {
        "id": "HrQZjwpKasRD"
      },
      "source": [
        "We could see that our model has predicted with 71% accuracy."
      ]
    }
  ]
}